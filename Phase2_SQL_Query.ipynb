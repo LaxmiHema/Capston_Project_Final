{
 "cells": [
  {
   "cell_type": "markdown",
   "id": "a620c42c",
   "metadata": {},
   "source": [
    "# Capston_Project"
   ]
  },
  {
   "cell_type": "markdown",
   "id": "c6966ed7",
   "metadata": {},
   "source": [
    "Phase-2"
   ]
  },
  {
   "cell_type": "code",
   "execution_count": 1,
   "id": "3f72bfee",
   "metadata": {},
   "outputs": [
    {
     "ename": "SyntaxError",
     "evalue": "invalid syntax (1755619695.py, line 1)",
     "output_type": "error",
     "traceback": [
      "\u001b[1;36m  File \u001b[1;32m\"C:\\Users\\Laxmi\\AppData\\Local\\Temp\\ipykernel_16708\\1755619695.py\"\u001b[1;36m, line \u001b[1;32m1\u001b[0m\n\u001b[1;33m    1- select shoeName,price from table1 where catagory = 'men';\u001b[0m\n\u001b[1;37m              ^\u001b[0m\n\u001b[1;31mSyntaxError\u001b[0m\u001b[1;31m:\u001b[0m invalid syntax\n"
     ]
    }
   ],
   "source": [
    "1- select shoeName,price from table1 where catagory = 'men';\n",
    "2- select Category, COUNT(DISTINCT NoOfColors) as NumberOfColors from Table1 GROUP BY Category;\n",
    "3- select ShoeName, Price from Table1 where Category = 'men' ORDER BY Price DESC LIMIT 1;\n",
    "4- select ShoeName, Price from Table1 where Category = 'women' and Color = 'Black' ORDER BY Price LIMIT 1;\n",
    "5- select shoeName,price from table1 where catagory = 'men';"
   ]
  },
  {
   "cell_type": "markdown",
   "id": "3815636b",
   "metadata": {},
   "source": [
    "Table-2"
   ]
  },
  {
   "cell_type": "code",
   "execution_count": 2,
   "id": "22ff8b54",
   "metadata": {},
   "outputs": [
    {
     "ename": "SyntaxError",
     "evalue": "invalid syntax (1370774742.py, line 1)",
     "output_type": "error",
     "traceback": [
      "\u001b[1;36m  File \u001b[1;32m\"C:\\Users\\Laxmi\\AppData\\Local\\Temp\\ipykernel_16708\\1370774742.py\"\u001b[1;36m, line \u001b[1;32m1\u001b[0m\n\u001b[1;33m    1- select Style, COUNT(Size) as SizeCount from Shoes GROUP BY Style;\u001b[0m\n\u001b[1;37m              ^\u001b[0m\n\u001b[1;31mSyntaxError\u001b[0m\u001b[1;31m:\u001b[0m invalid syntax\n"
     ]
    }
   ],
   "source": [
    "1- select Style, COUNT(Size) as SizeCount from Shoes GROUP BY Style;\n",
    "2- select Style, GROUP_CONCAT(DISTINCT Color ORDER BY Color ASC) as AssociatedColors from Shoes GROUP BY Style;\n",
    "3- select Style from Shoes GROUP BY Style having COUNT(DISTINCT Color) > 1;\n",
    "4- select Color, COUNT(DISTINCT Size) as SizeCount from Shoes where Style = 'YourSpecificStyleCode' GROUP BY Color;\n",
    "5- select DISTINCT Style from Shoes where Color = 'YourSpecificColor';"
   ]
  },
  {
   "cell_type": "markdown",
   "id": "3c8c617c",
   "metadata": {},
   "source": [
    "Table-3"
   ]
  },
  {
   "cell_type": "code",
   "execution_count": null,
   "id": "3181aca5",
   "metadata": {},
   "outputs": [],
   "source": [
    "1-select ProductID, AVG(ComfortRating) as AverageComfortRating from ProductReviews where ProductID = 'YourSpecificProductID' GROUP BY ProductID;\n",
    "2- select ProductID, AVG(StarRating) as AverageStarRating from ProductReviews GROUP BY ProductID having AVG(StarRating) >= 4;\n",
    "3- select ProductID, COUNT(*) as ReviewCount from ProductReviews GROUP BY ProductID;\n",
    "4- select ProductID from ProductRatings where DurabilityRating > 7 and QualityRating > 7 and PerformanceRating > 7;\n",
    "5- select Size, AVG(ComfortRating) as AverageComfortRating from ProductReviews GROUP BY Size;"
   ]
  },
  {
   "cell_type": "markdown",
   "id": "591a9a9c",
   "metadata": {},
   "source": [
    "Join SQL Queries  using all 3 tables:"
   ]
  },
  {
   "cell_type": "code",
   "execution_count": null,
   "id": "f3548266",
   "metadata": {},
   "outputs": [],
   "source": [
    "1- select T1.ShoeName, T1.Size, T1.StarRating from Table1 as T1 inner join Table3 as T3 on T1.ShoeName = T3.ShoeName where T1.Category = 'Men' ORDER BY T1.StarRating DESC;\n",
    "2- select Category, AVG(ComfortRating) as AverageComfortRating from ( select Category, ComfortRating from Table1 UNION ALL select Category, ComfortRating from Table3) as CombinedTables GROUP BY Category;\n",
    "3- with CombinedTables as ( select ProductID, DurabilityRating, QualityRating, PerformanceRating from Table1 UNION ALL select ProductID, DurabilityRating, QualityRating, PerformanceRating from Table3 ) select ProductID, DurabilityRating, QualityRating, PerformanceRating from CombinedTables where DurabilityRating > (select AVG(DurabilityRating) from CombinedTables)\n",
    "   OR QualityRating > (select AVG(QualityRating) from CombinedTables)\n",
    "   OR PerformanceRating > (select AVG(PerformanceRating) from CombinedTables);\n",
    "4- select * from Table1 where comfort_rating > (select AVG(comfort_rating)from Table3 );\n",
    "5- select * from Table1 join Table2 ON Table1.\"Style code/Product code\" = Table2.\"Style code/Product code\";\n",
    "6- select * from Products where StarRating > ( select AVG(StarRating) from Products as subquery where subquery.Size = Products.Size);\n",
    "7- select ProductID,Category,ComfortRatingfrom Products P1 where ComfortRating = ( select MAX(P2.ComfortRating) from Products P2 where P2.Category = P1.Category);"
   ]
  }
 ],
 "metadata": {
  "kernelspec": {
   "display_name": "Python 3 (ipykernel)",
   "language": "python",
   "name": "python3"
  },
  "language_info": {
   "codemirror_mode": {
    "name": "ipython",
    "version": 3
   },
   "file_extension": ".py",
   "mimetype": "text/x-python",
   "name": "python",
   "nbconvert_exporter": "python",
   "pygments_lexer": "ipython3",
   "version": "3.9.13"
  }
 },
 "nbformat": 4,
 "nbformat_minor": 5
}
